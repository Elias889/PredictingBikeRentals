{
 "cells": [
  {
   "cell_type": "markdown",
   "metadata": {
    "collapsed": true
   },
   "source": [
    "# Introduction to the Dataset"
   ]
  },
  {
   "cell_type": "markdown",
   "metadata": {},
   "source": [
    "Washington, D.C. is a city that has bike sharing stations which allow people to rent bicycles by the hour or by the day. The goal of this exploration is to compare different regression models such as LinearRegression, DecisionTreeRegressor and RandomForestRegressor to predict the # of bike rentals entry by entry. \n",
    "\n",
    "\n",
    "Hadi Fanaee-T compiled data regarding bike rentals. For the link to the data, see http://archive.ics.uci.edu/ml/datasets/Bike+Sharing+Dataset.\n",
    "We will provide descriptions for the various columns of the dataset."
   ]
  },
  {
   "cell_type": "markdown",
   "metadata": {},
   "source": [
    "1. **instant** - A unique sequential ID number for each row\n",
    "2. **dteday** - The date of the rentals\n",
    "3. **season** - The season in which the rentals occurred\n",
    "4. **yr** - The year the rentals occurred\n",
    "5. **mnth** - The month the rentals occurred\n",
    "6. **hr** - The hour the rentals occurred\n",
    "7. **holiday** - Whether or not the day was a holiday\n",
    "8. **weekday** - The day of the week (as a number, 0 to 7)\n",
    "9. **workingday** - Whether or not the day was a working day\n",
    "10. **weathersit** - The weather (as a categorical variable)\n",
    "11. **temp** - The temperature, on a 0-1 scale\n",
    "12. **atemp** - The adjusted temperature\n",
    "13. **hum** - The humidity, on a 0-1 scale\n",
    "14. **windspeed** - The wind speed, on a 0-1 scale\n",
    "15. **casual** - The number of casual riders (people who hadn't previously signed up with the bike sharing program)\n",
    "16. **registered** - The number of registered riders (people who had already signed up)\n",
    "17. **cnt** - The total number of bike rentals (casual + registered)"
   ]
  },
  {
   "cell_type": "markdown",
   "metadata": {},
   "source": [
    "Importing relevant libraries for this project:"
   ]
  },
  {
   "cell_type": "code",
   "execution_count": 99,
   "metadata": {},
   "outputs": [],
   "source": [
    "import pandas as pd\n",
    "import seaborn as sns\n",
    "import matplotlib.pyplot as plt\n",
    "import numpy as np \n",
    "from sklearn import tree\n",
    "from sklearn.metrics import mean_squared_error, r2_score\n",
    "from sklearn.linear_model import LinearRegression\n",
    "from sklearn.tree import DecisionTreeRegressor\n",
    "from sklearn.ensemble import RandomForestRegressor\n",
    "from sklearn.metrics import roc_auc_score"
   ]
  },
  {
   "cell_type": "markdown",
   "metadata": {},
   "source": [
    "We shall also explore the data."
   ]
  },
  {
   "cell_type": "code",
   "execution_count": 2,
   "metadata": {},
   "outputs": [
    {
     "data": {
      "text/html": [
       "<div>\n",
       "<style scoped>\n",
       "    .dataframe tbody tr th:only-of-type {\n",
       "        vertical-align: middle;\n",
       "    }\n",
       "\n",
       "    .dataframe tbody tr th {\n",
       "        vertical-align: top;\n",
       "    }\n",
       "\n",
       "    .dataframe thead th {\n",
       "        text-align: right;\n",
       "    }\n",
       "</style>\n",
       "<table border=\"1\" class=\"dataframe\">\n",
       "  <thead>\n",
       "    <tr style=\"text-align: right;\">\n",
       "      <th></th>\n",
       "      <th>instant</th>\n",
       "      <th>dteday</th>\n",
       "      <th>season</th>\n",
       "      <th>yr</th>\n",
       "      <th>mnth</th>\n",
       "      <th>hr</th>\n",
       "      <th>holiday</th>\n",
       "      <th>weekday</th>\n",
       "      <th>workingday</th>\n",
       "      <th>weathersit</th>\n",
       "      <th>temp</th>\n",
       "      <th>atemp</th>\n",
       "      <th>hum</th>\n",
       "      <th>windspeed</th>\n",
       "      <th>casual</th>\n",
       "      <th>registered</th>\n",
       "      <th>cnt</th>\n",
       "    </tr>\n",
       "  </thead>\n",
       "  <tbody>\n",
       "    <tr>\n",
       "      <th>0</th>\n",
       "      <td>1</td>\n",
       "      <td>2011-01-01</td>\n",
       "      <td>1</td>\n",
       "      <td>0</td>\n",
       "      <td>1</td>\n",
       "      <td>0</td>\n",
       "      <td>0</td>\n",
       "      <td>6</td>\n",
       "      <td>0</td>\n",
       "      <td>1</td>\n",
       "      <td>0.24</td>\n",
       "      <td>0.2879</td>\n",
       "      <td>0.81</td>\n",
       "      <td>0.0</td>\n",
       "      <td>3</td>\n",
       "      <td>13</td>\n",
       "      <td>16</td>\n",
       "    </tr>\n",
       "    <tr>\n",
       "      <th>1</th>\n",
       "      <td>2</td>\n",
       "      <td>2011-01-01</td>\n",
       "      <td>1</td>\n",
       "      <td>0</td>\n",
       "      <td>1</td>\n",
       "      <td>1</td>\n",
       "      <td>0</td>\n",
       "      <td>6</td>\n",
       "      <td>0</td>\n",
       "      <td>1</td>\n",
       "      <td>0.22</td>\n",
       "      <td>0.2727</td>\n",
       "      <td>0.80</td>\n",
       "      <td>0.0</td>\n",
       "      <td>8</td>\n",
       "      <td>32</td>\n",
       "      <td>40</td>\n",
       "    </tr>\n",
       "    <tr>\n",
       "      <th>2</th>\n",
       "      <td>3</td>\n",
       "      <td>2011-01-01</td>\n",
       "      <td>1</td>\n",
       "      <td>0</td>\n",
       "      <td>1</td>\n",
       "      <td>2</td>\n",
       "      <td>0</td>\n",
       "      <td>6</td>\n",
       "      <td>0</td>\n",
       "      <td>1</td>\n",
       "      <td>0.22</td>\n",
       "      <td>0.2727</td>\n",
       "      <td>0.80</td>\n",
       "      <td>0.0</td>\n",
       "      <td>5</td>\n",
       "      <td>27</td>\n",
       "      <td>32</td>\n",
       "    </tr>\n",
       "    <tr>\n",
       "      <th>3</th>\n",
       "      <td>4</td>\n",
       "      <td>2011-01-01</td>\n",
       "      <td>1</td>\n",
       "      <td>0</td>\n",
       "      <td>1</td>\n",
       "      <td>3</td>\n",
       "      <td>0</td>\n",
       "      <td>6</td>\n",
       "      <td>0</td>\n",
       "      <td>1</td>\n",
       "      <td>0.24</td>\n",
       "      <td>0.2879</td>\n",
       "      <td>0.75</td>\n",
       "      <td>0.0</td>\n",
       "      <td>3</td>\n",
       "      <td>10</td>\n",
       "      <td>13</td>\n",
       "    </tr>\n",
       "    <tr>\n",
       "      <th>4</th>\n",
       "      <td>5</td>\n",
       "      <td>2011-01-01</td>\n",
       "      <td>1</td>\n",
       "      <td>0</td>\n",
       "      <td>1</td>\n",
       "      <td>4</td>\n",
       "      <td>0</td>\n",
       "      <td>6</td>\n",
       "      <td>0</td>\n",
       "      <td>1</td>\n",
       "      <td>0.24</td>\n",
       "      <td>0.2879</td>\n",
       "      <td>0.75</td>\n",
       "      <td>0.0</td>\n",
       "      <td>0</td>\n",
       "      <td>1</td>\n",
       "      <td>1</td>\n",
       "    </tr>\n",
       "  </tbody>\n",
       "</table>\n",
       "</div>"
      ],
      "text/plain": [
       "   instant      dteday  season  yr  mnth  hr  holiday  weekday  workingday  \\\n",
       "0        1  2011-01-01       1   0     1   0        0        6           0   \n",
       "1        2  2011-01-01       1   0     1   1        0        6           0   \n",
       "2        3  2011-01-01       1   0     1   2        0        6           0   \n",
       "3        4  2011-01-01       1   0     1   3        0        6           0   \n",
       "4        5  2011-01-01       1   0     1   4        0        6           0   \n",
       "\n",
       "   weathersit  temp   atemp   hum  windspeed  casual  registered  cnt  \n",
       "0           1  0.24  0.2879  0.81        0.0       3          13   16  \n",
       "1           1  0.22  0.2727  0.80        0.0       8          32   40  \n",
       "2           1  0.22  0.2727  0.80        0.0       5          27   32  \n",
       "3           1  0.24  0.2879  0.75        0.0       3          10   13  \n",
       "4           1  0.24  0.2879  0.75        0.0       0           1    1  "
      ]
     },
     "execution_count": 2,
     "metadata": {},
     "output_type": "execute_result"
    }
   ],
   "source": [
    "bike = pd.read_csv('bike_rental_hour.csv')\n",
    "bike.head()"
   ]
  },
  {
   "cell_type": "markdown",
   "metadata": {},
   "source": [
    "To further explore 'cnt', let us create a histogram of the column alongside producing a correlation matrix of each column with cnt. "
   ]
  },
  {
   "cell_type": "markdown",
   "metadata": {},
   "source": [
    "Note to ignore 'casual' and 'registered' as they are derived from 'cnt'"
   ]
  },
  {
   "cell_type": "code",
   "execution_count": 3,
   "metadata": {
    "scrolled": true
   },
   "outputs": [
    {
     "data": {
      "image/png": "[encoded data removed]",
      "text/plain": [
       "<Figure size 432x288 with 1 Axes>"
      ]
     },
     "metadata": {
      "needs_background": "light"
     },
     "output_type": "display_data"
    },
    {
     "name": "stdout",
     "output_type": "stream",
     "text": [
      "hr       0.394071\n",
      "temp     0.404772\n",
      "atemp    0.400929\n",
      "hum     -0.322911\n",
      "Name: cnt, dtype: float64\n"
     ]
    }
   ],
   "source": [
    "# Plotting histogram\n",
    "plt.hist(bike['cnt'])\n",
    "plt.xlabel('# of Bike Rentals')\n",
    "plt.ylabel('Frequency')\n",
    "plt.show()\n",
    "# Creating the relevant correlation matrix as mentioned\n",
    "cnt_corrs = bike.corr()['cnt']\n",
    "print(cnt_corrs[(abs(cnt_corrs)>0.3)].drop(['cnt', 'casual', 'registered']))"
   ]
  },
  {
   "cell_type": "markdown",
   "metadata": {
    "collapsed": true
   },
   "source": [
    "Upon exploration we can see that 'cnt' values occur the most around the 0-200 mark, substantially dropping past that. Furthermore, we can highlight that *hr, temp, atemp, hum, casual, registered* have the highest correlations with *'cnt'*."
   ]
  },
  {
   "cell_type": "markdown",
   "metadata": {},
   "source": [
    "# Calculating Features "
   ]
  },
  {
   "cell_type": "markdown",
   "metadata": {},
   "source": [
    "Because machines don't hold value to 'hours' and 'times' in the 0-24 hour format, we need to assosciate each bike rental entry with a label that signifies time. Let us define a function that takes in the numerical hour value and returns the # interval.\n",
    "\n",
    "* 1 for hours 6-12 \n",
    "* 2 for hours 12-18\n",
    "* 3 for hours 18-24 \n",
    "* 4 for hours 0-6"
   ]
  },
  {
   "cell_type": "code",
   "execution_count": 101,
   "metadata": {},
   "outputs": [
    {
     "name": "stdout",
     "output_type": "stream",
     "text": [
      "0    4\n",
      "1    4\n",
      "2    4\n",
      "3    4\n",
      "4    4\n",
      "Name: time_label, dtype: int64\n",
      "0\n"
     ]
    }
   ],
   "source": [
    "def assign_label(h):\n",
    "    if 6<h<=12:\n",
    "        return 1 \n",
    "    if 12<h<=18:\n",
    "        return 2 \n",
    "    if 18<h<=24: \n",
    "        return 3 \n",
    "    if 0<=h<=6: \n",
    "        return 4\n",
    "bike['time_label'] = bike['hr'].apply(assign_label)\n",
    "# Let us now inspect the newly created column and check if we ended up w/ \n",
    "# any null values\n",
    "print(bike['time_label'].head())\n",
    "print(bike['time_label'].isnull().sum())"
   ]
  },
  {
   "cell_type": "markdown",
   "metadata": {},
   "source": [
    "# Splitting the Data Into Train and Test Sets"
   ]
  },
  {
   "cell_type": "markdown",
   "metadata": {},
   "source": [
    "Prior to splitting the data, due to the fact we will be comparing LinearRegression and DecisisionTreeRegression alongside other models, as it is a regression model, we shall use R2 score and RMSE as error metrics for points of comparison and evaluation of the machine learning models."
   ]
  },
  {
   "cell_type": "markdown",
   "metadata": {},
   "source": [
    "Let us now divide the dataset into a train and a test set via the pandas sampling method."
   ]
  },
  {
   "cell_type": "code",
   "execution_count": 102,
   "metadata": {},
   "outputs": [],
   "source": [
    "# Sampling 80% of the dataframe to be under the train set\n",
    "eighty = round(bike.shape[0]*0.8)\n",
    "# Sampling procedure\n",
    "train = bike.sample(eighty)\n",
    "# Creating a bool to index the original dataset for rows that are in \n",
    "# bike but not in train\n",
    "not_in_train = bike.index.isin(train.index)\n",
    "test = bike[~not_in_train]"
   ]
  },
  {
   "cell_type": "markdown",
   "metadata": {},
   "source": [
    "There are also a number of other techniques to select train and test sets such as train_test_split method from sklearn.model_selection."
   ]
  },
  {
   "cell_type": "markdown",
   "metadata": {},
   "source": [
    "# Applying Linear Regression"
   ]
  },
  {
   "cell_type": "markdown",
   "metadata": {},
   "source": [
    "Let us create a list of feature columns to use in training alongside the predictions. This will be every feature column above >0.1 correlation and not 'cnt, casual, dteday, registered' as they are/based on 'cnt', the output column."
   ]
  },
  {
   "cell_type": "code",
   "execution_count": 103,
   "metadata": {},
   "outputs": [],
   "source": [
    "new_corrs = train.corr()\n",
    "correlated = new_corrs[(abs(new_corrs)>0.1)].drop(['cnt', 'casual', 'registered']).index\n",
    "feature_columns = [col for col in correlated]"
   ]
  },
  {
   "cell_type": "markdown",
   "metadata": {},
   "source": [
    "Let us now apply the linear regression model and calculate r-squared and RMSE."
   ]
  },
  {
   "cell_type": "code",
   "execution_count": 104,
   "metadata": {
    "scrolled": true
   },
   "outputs": [
    {
     "name": "stdout",
     "output_type": "stream",
     "text": [
      "The R_Squared value is: 0.490\n",
      "The RMSE value is: 129.533\n"
     ]
    }
   ],
   "source": [
    "lr = LinearRegression()\n",
    "lr.fit(train[feature_columns], train['cnt'])\n",
    "predictions = lr.predict(test[feature_columns])\n",
    "r2_squared = r2_score(test['cnt'], predictions)\n",
    "rmse = (mean_squared_error(test['cnt'], predictions))**(1/2)\n",
    "print('The R_Squared value is: {:.3f}'.format(r2_squared))\n",
    "print('The RMSE value is: {:.3f}'.format(rmse))"
   ]
  },
  {
   "cell_type": "markdown",
   "metadata": {},
   "source": [
    "The standards for a good R-Squared reading matter from subject matter. In finance, an R-Squared value of >0.7 is generally seen as positive. In scientific studies, R-squared values of >0.95 or >0.9 are required. Generally we can view the achieved R-squared value as an passable/medium fit. \n",
    "\n",
    "However, we can also identify our RMSE value as an indicator that this model possesses high inaccuracies.\n",
    "\n",
    "Due to the high inaccuracy, let us shed light onto other models, such as DecisionTreeRegressor."
   ]
  },
  {
   "cell_type": "markdown",
   "metadata": {},
   "source": [
    "# Applying Decision Trees"
   ]
  },
  {
   "cell_type": "markdown",
   "metadata": {},
   "source": [
    "### Decision tree regressor"
   ]
  },
  {
   "cell_type": "code",
   "execution_count": 188,
   "metadata": {},
   "outputs": [
    {
     "name": "stdout",
     "output_type": "stream",
     "text": [
      "The R_Squared value is: 0.913\n",
      "The RMSE value is: 53.506\n"
     ]
    }
   ],
   "source": [
    "def dt_regressor(train, test, feature_columns, msl, md): \n",
    "    '''\n",
    "    The purpose of this function is to initiate, fit, and predict the R2 and RMSE values of a dataset using the Decision Tree\n",
    "    Regressor algorithm.\n",
    "    \n",
    "    \n",
    "    train: dataset containing the train values (X_train, y_train)\n",
    "    test: dataset containing the test values (X_test, y_test)\n",
    "    msl: value corresponding to parameter min_samples_leaf\n",
    "    md: value corresponding to parameter max_depth\n",
    "    '''\n",
    "    dt = DecisionTreeRegressor(min_samples_leaf=msl, random_state=1, max_depth=md)\n",
    "    dt.fit(train[feature_columns], train['cnt'])\n",
    "    predictions_dt = dt.predict(test[feature_columns])\n",
    "    r2_squared_dt = r2_score(test['cnt'], predictions_dt)\n",
    "    rmse_dt = (mean_squared_error(test['cnt'], predictions_dt))**(1/2)\n",
    "    return r2_squared_dt, rmse_dt\n",
    "a, b = dt_regressor(train, test, feature_columns, 4, md=None)\n",
    "print('The R_Squared value is: {:.3f}'.format(a))\n",
    "print('The RMSE value is: {:.3f}'.format(b))"
   ]
  },
  {
   "cell_type": "code",
   "execution_count": 189,
   "metadata": {},
   "outputs": [],
   "source": [
    "def sensitivity_plot(parameter, ran):\n",
    "    '''\n",
    "    The purpose of the function is to automatically plot the RMSE and R_squared values\n",
    "    given the x-range and the xlabel parameter. Below you may find the parameter labels.\n",
    "    \n",
    "    \n",
    "    parameter: plots x_label as the given parameter label \n",
    "    ran: outlines the x-range of values in a plot\n",
    "    '''\n",
    "    plt.figure(figsize=(10,10))\n",
    "    plt.subplot(1,2,2)\n",
    "    ax1 = plt.subplot(221)\n",
    "    ax1.plot(ran, rmses_list)\n",
    "    ax1.set_xlabel(parameter)\n",
    "    ax1.set_ylabel('RMSE')\n",
    "    ax2 = plt.subplot(222)\n",
    "    ax2.plot(ran, r2_list)\n",
    "    ax2.set_xlabel(parameter)\n",
    "    ax2.set_ylabel('R2')\n",
    "    plt.show()"
   ]
  },
  {
   "cell_type": "markdown",
   "metadata": {},
   "source": [
    "### Sensitivity analysis on min_samples_leaf"
   ]
  },
  {
   "cell_type": "markdown",
   "metadata": {},
   "source": [
    "Let us perform an analysis on varying the number of min_samples_leaf to see if that will have an effect of the R-squared value and RMSE value overtime: "
   ]
  },
  {
   "cell_type": "code",
   "execution_count": 191,
   "metadata": {},
   "outputs": [],
   "source": [
    "rmses_list = []\n",
    "r2_list = []\n",
    "for i in range(2,50):\n",
    "    c, d = dt_regressor(train,test,feature_columns,i, None)\n",
    "    rmses_list.append(d)\n",
    "    r2_list.append(c)"
   ]
  },
  {
   "cell_type": "code",
   "execution_count": 192,
   "metadata": {},
   "outputs": [
    {
     "data": {
      "image/png": "[encoded data removed]",
      "text/plain": [
       "<Figure size 720x720 with 2 Axes>"
      ]
     },
     "metadata": {
      "needs_background": "light"
     },
     "output_type": "display_data"
    }
   ],
   "source": [
    "sensitivity_plot('Min_Samples_Leaf', range(2,50))"
   ]
  },
  {
   "cell_type": "markdown",
   "metadata": {},
   "source": [
    "As far as RMSE error and R2 concerns, we can see the optimal amount being at ~6-7 min_samples leaf. Let us use this value moving forward and test for other DecisionTreeRegression parameters such as **max_depth**."
   ]
  },
  {
   "cell_type": "markdown",
   "metadata": {},
   "source": [
    "### Sensitivity Analysis on max_depth"
   ]
  },
  {
   "cell_type": "code",
   "execution_count": 195,
   "metadata": {
    "scrolled": false
   },
   "outputs": [
    {
     "data": {
      "image/png": "[encoded data removed]",
      "text/plain": [
       "<Figure size 720x720 with 2 Axes>"
      ]
     },
     "metadata": {
      "needs_background": "light"
     },
     "output_type": "display_data"
    }
   ],
   "source": [
    "rmses_list = []\n",
    "r2_list = []\n",
    "for i in range(2,50):\n",
    "    c, d = dt_regressor(train,test,feature_columns,7,i)\n",
    "    rmses_list.append(d)\n",
    "    r2_list.append(c)\n",
    "sensitivity_plot('Max_Depth',range(2,50))"
   ]
  },
  {
   "cell_type": "code",
   "execution_count": 196,
   "metadata": {},
   "outputs": [
    {
     "name": "stdout",
     "output_type": "stream",
     "text": [
      "The R_Squared value is: 0.914\n",
      "The RMSE value is: 53.242\n"
     ]
    }
   ],
   "source": [
    "# Collective optimum values\n",
    "a, b = dt_regressor(train, test, feature_columns, 7,13)\n",
    "print('The R_Squared value is: {:.3f}'.format(a))\n",
    "print('The RMSE value is: {:.3f}'.format(b))"
   ]
  },
  {
   "cell_type": "markdown",
   "metadata": {},
   "source": [
    "Based on above results, we can conclude the ideal max_depth is ~13 and the optimum min_samples_leaf is at ~14 as well. The reason why max_depth wouldn't be 2 or 3 is due to underfitting. If we restrict the depth of the tree too much, we increase the bias to the point where it underfits. Let us move on to apply this analysis to RandomForestRegression, which can further decrease RMSE and maximise R2."
   ]
  },
  {
   "cell_type": "markdown",
   "metadata": {},
   "source": [
    "# Applying Random Forests"
   ]
  },
  {
   "cell_type": "markdown",
   "metadata": {},
   "source": [
    "### Random Forest Regression Model"
   ]
  },
  {
   "cell_type": "markdown",
   "metadata": {},
   "source": [
    "The random forest algorithm is a powerful ensemble tool that may allow us to furhter minimize overfitting. "
   ]
  },
  {
   "cell_type": "code",
   "execution_count": 218,
   "metadata": {},
   "outputs": [
    {
     "name": "stdout",
     "output_type": "stream",
     "text": [
      "The R_Squared value is: 0.933\n",
      "The RMSE value is: 46.799\n"
     ]
    }
   ],
   "source": [
    "def rff(train, test, feature_columns, ne, msl, md): \n",
    "    '''\n",
    "    The purpose of this function is to initiate, fit, and predict the R2 and RMSE values of a dataset using the Random Forest\n",
    "    Regressor algorithm.\n",
    "    \n",
    "    \n",
    "    train: dataset containing the train values (X_train, y_train)\n",
    "    test: dataset containing the test values (X_test, y_test)\n",
    "    ne: value corresponding to parameter n_estimators\n",
    "    msl: value corresponding to parameter min_samples_leaf\n",
    "    md: value corresponding to parameter max_depth\n",
    "    '''\n",
    "    rf = RandomForestRegressor(n_estimators=ne, random_state=1, min_samples_leaf=msl, max_depth=md)\n",
    "    rf.fit(train[feature_columns], train['cnt'])\n",
    "    predictions_rf = rf.predict(test[feature_columns])\n",
    "    r2_rf = r2_score(test['cnt'], predictions_rf)\n",
    "    rmse_rf = (mean_squared_error(test['cnt'], predictions_rf))**(1/2)\n",
    "    return r2_rf, rmse_rf\n",
    "a, b = rff(train, test, feature_columns, 4, 4, None)\n",
    "print('The R_Squared value is: {:.3f}'.format(a))\n",
    "print('The RMSE value is: {:.3f}'.format(b))"
   ]
  },
  {
   "cell_type": "markdown",
   "metadata": {},
   "source": [
    "We can see a further decrease in RMSE with a substantial increase in R2 value, let us continue by varying the amount of n_estimators and then exploring the other parameters. The overall goal is to reduce RMSE below 1 and achieve R_squared to be >0.95."
   ]
  },
  {
   "cell_type": "markdown",
   "metadata": {},
   "source": [
    "### Sensitivity Analysis on n_estimators"
   ]
  },
  {
   "cell_type": "code",
   "execution_count": 207,
   "metadata": {},
   "outputs": [
    {
     "data": {
      "image/png": "[encoded data removed]",
      "text/plain": [
       "<Figure size 720x720 with 2 Axes>"
      ]
     },
     "metadata": {
      "needs_background": "light"
     },
     "output_type": "display_data"
    }
   ],
   "source": [
    "rmses_list = []\n",
    "r2_list = []\n",
    "for i in range(2,50):\n",
    "    c, d = rff(train,test,feature_columns,i,2,None)\n",
    "    rmses_list.append(d)\n",
    "    r2_list.append(c)\n",
    "sensitivity_plot('N_Estimators', range(2,50))"
   ]
  },
  {
   "cell_type": "markdown",
   "metadata": {},
   "source": [
    "We can generally see that as we increase the number of estimators, the RMSE value decreases and R2 value increases signifcantly. However, we can also see a plateau tending around the 30-50 mark value. Therefore, increasing the number of estimators past this point is insignificant compared to the *increased computing time for the model to train*. To reducing processing time, let us select 30 as the optimum n_estimators while we explore other parameters."
   ]
  },
  {
   "cell_type": "markdown",
   "metadata": {},
   "source": [
    "### Sensitivity analysis on min_samples_leaf"
   ]
  },
  {
   "cell_type": "code",
   "execution_count": 209,
   "metadata": {},
   "outputs": [
    {
     "data": {
      "image/png": "[encoded data removed]",
      "text/plain": [
       "<Figure size 720x720 with 2 Axes>"
      ]
     },
     "metadata": {
      "needs_background": "light"
     },
     "output_type": "display_data"
    }
   ],
   "source": [
    "rmses_list = []\n",
    "r2_list = []\n",
    "for i in range(2,50):\n",
    "    c, d = rff(train,test,feature_columns,30,i,None)\n",
    "    rmses_list.append(d)\n",
    "    r2_list.append(c)\n",
    "sensitivity_plot('Min_Samples_Leaf', range(2,50))"
   ]
  },
  {
   "cell_type": "markdown",
   "metadata": {},
   "source": [
    "We can see that increasing min_samples_leaf leads to a higher RMSE and lower R2 value, therefore showing a lower accuracy. The optimum min_samples_leaf occurs at ~3."
   ]
  },
  {
   "cell_type": "markdown",
   "metadata": {},
   "source": [
    "### Sensitivity analysis on max_depth"
   ]
  },
  {
   "cell_type": "code",
   "execution_count": 221,
   "metadata": {},
   "outputs": [
    {
     "data": {
      "image/png": "[encoded data removed]",
      "text/plain": [
       "<Figure size 720x720 with 2 Axes>"
      ]
     },
     "metadata": {
      "needs_background": "light"
     },
     "output_type": "display_data"
    }
   ],
   "source": [
    "rmses_list = []\n",
    "r2_list = []\n",
    "for i in range(2,50):\n",
    "    c, d = rff(train,test,feature_columns,30,3,i)\n",
    "    rmses_list.append(d)\n",
    "    r2_list.append(c)\n",
    "sensitivity_plot('Max_Depth', range(2,50))"
   ]
  },
  {
   "cell_type": "markdown",
   "metadata": {},
   "source": [
    "Similar to the previous section, we found the optimum max depth plateauing at ~14. Therefore, let us construct our final model of this project:"
   ]
  },
  {
   "cell_type": "code",
   "execution_count": 220,
   "metadata": {},
   "outputs": [
    {
     "name": "stdout",
     "output_type": "stream",
     "text": [
      "The R_Squared value is: 0.942\n",
      "The RMSE value is: 43.661\n"
     ]
    }
   ],
   "source": [
    "a, b = rff(train, test, feature_columns, 30,3,14)\n",
    "print('The R_Squared value is: {:.3f}'.format(a))\n",
    "print('The RMSE value is: {:.3f}'.format(b))"
   ]
  },
  {
   "cell_type": "markdown",
   "metadata": {},
   "source": [
    "# Conclusion"
   ]
  },
  {
   "cell_type": "markdown",
   "metadata": {},
   "source": [
    "Although not defining the parameters in the first place will allow the algorithm to automatically select the highest accuracy parameters in the first place, it is vital to demonstrate how the relationship of the parameters relates to the accuracy of the random forest and decision tree models. \n",
    "\n",
    "Comparing the first model, linear regression, to the final regression model, Random Forest, we managed to increase the R2 value from 0.490 to 0.942 which is a susbtantial increase. The linear model suggests it is nto accurate enough to be implemented while the random forest model captures the predictions in a highly accurate manner. We can also see a substantial RMSE decrease from ~130 to ~42. Ideal RMSE values tend to 0 and as we weren't able to reach close to that target, we can noneteheless see a far more accurate predictions switching from linear to random forest models. \n",
    "\n",
    "Further steps to decrease RMSE/R2 values may lie in feature selection which can include principal component analysis, recursive feature selection, etc. Furthermore, we can also include a higher boundary cutoff for the correlations of feature columns with the target column which may improve results slightly as well. "
   ]
  }
 ],
 "metadata": {
  "kernelspec": {
   "display_name": "Python 3 (ipykernel)",
   "language": "python",
   "name": "python3"
  },
  "language_info": {
   "codemirror_mode": {
    "name": "ipython",
    "version": 3
   },
   "file_extension": ".py",
   "mimetype": "text/x-python",
   "name": "python",
   "nbconvert_exporter": "python",
   "pygments_lexer": "ipython3",
   "version": "3.9.12"
  }
 },
 "nbformat": 4,
 "nbformat_minor": 1
}
